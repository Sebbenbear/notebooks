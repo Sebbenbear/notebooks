{
 "cells": [
  {
   "cell_type": "markdown",
   "metadata": {},
   "source": [
    "# Pokemon API"
   ]
  },
  {
   "cell_type": "markdown",
   "metadata": {},
   "source": [
    "This is primarily for exploring the pokemon api at https://pokeapi.co/ for a bit of fun."
   ]
  },
  {
   "cell_type": "code",
   "execution_count": 120,
   "metadata": {
    "collapsed": true
   },
   "outputs": [],
   "source": [
    "import pandas as pd\n",
    "from pandas import DataFrame, Series\n",
    "import seaborn as sns\n",
    "import numpy as np\n",
    "import requests\n",
    "import json\n",
    "from IPython.core.display import Image, display\n",
    "from IPython.display import Image, Markdown\n",
    "import random"
   ]
  },
  {
   "cell_type": "code",
   "execution_count": 121,
   "metadata": {},
   "outputs": [
    {
     "data": {
      "text/markdown": [
       "#### A wild Rattata appeared!"
      ],
      "text/plain": [
       "<IPython.core.display.Markdown object>"
      ]
     },
     "metadata": {},
     "output_type": "display_data"
    },
    {
     "data": {
      "image/png": "[encoded data removed]",
      "text/plain": [
       "<IPython.core.display.Image object>"
      ]
     },
     "metadata": {},
     "output_type": "display_data"
    }
   ],
   "source": [
    "generations = [151, 252, 802]\n",
    "pokemon_number = random.randint(1, generations[1])\n",
    "\n",
    "pokemon_url = 'http://pokeapi.co/api/v2/pokemon/{}/'.format(pokemon_number)\n",
    "response_json = requests.get(pokemon_url).json()\n",
    "\n",
    "pokemon_name = response_json['name'].title()\n",
    "sprites = response_json['sprites']\n",
    "sprite_url = sprites['front_default']\n",
    "\n",
    "display(Markdown(\"#### A wild {} appeared!\".format(pokemon_name)))\n",
    "display(Image(sprite_url))"
   ]
  },
  {
   "cell_type": "code",
   "execution_count": 122,
   "metadata": {},
   "outputs": [
    {
     "data": {
      "text/html": [
       "<img src=\"https://raw.githubusercontent.com/PokeAPI/sprites/master/sprites/pokemon/back/female/19.png\"/>"
      ],
      "text/plain": [
       "<IPython.core.display.Image object>"
      ]
     },
     "metadata": {},
     "output_type": "display_data"
    },
    {
     "data": {
      "text/html": [
       "<img src=\"https://raw.githubusercontent.com/PokeAPI/sprites/master/sprites/pokemon/back/shiny/female/19.png\"/>"
      ],
      "text/plain": [
       "<IPython.core.display.Image object>"
      ]
     },
     "metadata": {},
     "output_type": "display_data"
    },
    {
     "data": {
      "text/html": [
       "<img src=\"https://raw.githubusercontent.com/PokeAPI/sprites/master/sprites/pokemon/back/19.png\"/>"
      ],
      "text/plain": [
       "<IPython.core.display.Image object>"
      ]
     },
     "metadata": {},
     "output_type": "display_data"
    },
    {
     "data": {
      "text/html": [
       "<img src=\"https://raw.githubusercontent.com/PokeAPI/sprites/master/sprites/pokemon/female/19.png\"/>"
      ],
      "text/plain": [
       "<IPython.core.display.Image object>"
      ]
     },
     "metadata": {},
     "output_type": "display_data"
    },
    {
     "data": {
      "text/html": [
       "<img src=\"https://raw.githubusercontent.com/PokeAPI/sprites/master/sprites/pokemon/shiny/female/19.png\"/>"
      ],
      "text/plain": [
       "<IPython.core.display.Image object>"
      ]
     },
     "metadata": {},
     "output_type": "display_data"
    },
    {
     "data": {
      "text/html": [
       "<img src=\"https://raw.githubusercontent.com/PokeAPI/sprites/master/sprites/pokemon/back/shiny/19.png\"/>"
      ],
      "text/plain": [
       "<IPython.core.display.Image object>"
      ]
     },
     "metadata": {},
     "output_type": "display_data"
    },
    {
     "data": {
      "text/html": [
       "<img src=\"https://raw.githubusercontent.com/PokeAPI/sprites/master/sprites/pokemon/19.png\"/>"
      ],
      "text/plain": [
       "<IPython.core.display.Image object>"
      ]
     },
     "metadata": {},
     "output_type": "display_data"
    },
    {
     "data": {
      "text/html": [
       "<img src=\"https://raw.githubusercontent.com/PokeAPI/sprites/master/sprites/pokemon/shiny/19.png\"/>"
      ],
      "text/plain": [
       "<IPython.core.display.Image object>"
      ]
     },
     "metadata": {},
     "output_type": "display_data"
    }
   ],
   "source": [
    "for sprite_name in sprites:\n",
    "    sprite_url = sprites[sprite_name]\n",
    "    if sprite_url is not None:\n",
    "        display(Image(url=sprite_url))"
   ]
  },
  {
   "cell_type": "code",
   "execution_count": 123,
   "metadata": {},
   "outputs": [
    {
     "data": {
      "text/markdown": [
       "#### Rattata just learned Cut!"
      ],
      "text/plain": [
       "<IPython.core.display.Markdown object>"
      ]
     },
     "metadata": {},
     "output_type": "display_data"
    }
   ],
   "source": [
    "pokemon_move = response_json['moves'][0]['move']['name'].title()\n",
    "display(Markdown(\"#### {} just learned {}!\".format(pokemon_name, pokemon_move)))"
   ]
  },
  {
   "cell_type": "code",
   "execution_count": 115,
   "metadata": {},
   "outputs": [
    {
     "data": {
      "text/markdown": [
       "#### These are the moves Gastly can learn:\n"
      ],
      "text/plain": [
       "<IPython.core.display.Markdown object>"
      ]
     },
     "metadata": {},
     "output_type": "display_data"
    },
    {
     "name": "stdout",
     "output_type": "stream",
     "text": [
      "Fire-Punch     0\n",
      "Ice-Punch      0\n",
      "Thunder-Punch  0\n",
      "Disable        0\n",
      "Mega-Drain     0\n",
      "Thunderbolt    0\n",
      "Thunder        0\n",
      "Toxic          0\n",
      "Psychic        0\n",
      "Hypnosis       1\n",
      "Rage           0\n",
      "Night-Shade    15\n",
      "Mimic          0\n",
      "Double-Team    0\n",
      "Confuse-Ray    19\n",
      "Haze           0\n",
      "Bide           0\n",
      "Self-Destruct  0\n",
      "Lick           1\n",
      "Smog           0\n",
      "Dream-Eater    0\n",
      "Psywave        0\n",
      "Explosion      0\n",
      "Rest           0\n",
      "Substitute     0\n",
      "Thief          0\n",
      "Nightmare      47\n",
      "Snore          0\n",
      "Curse          12\n",
      "Spite          0\n",
      "Protect        0\n",
      "Scary-Face     0\n",
      "Sludge-Bomb    0\n",
      "Zap-Cannon     0\n",
      "Destiny-Bond   40\n",
      "Perish-Song    0\n",
      "Icy-Wind       0\n",
      "Giga-Drain     0\n",
      "Endure         0\n",
      "Swagger        0\n",
      "Mean-Look      8\n",
      "Attract        0\n",
      "Sleep-Talk     0\n",
      "Return         0\n",
      "Frustration    0\n",
      "Pain-Split     0\n",
      "Hidden-Power   0\n",
      "Rain-Dance     0\n",
      "Sunny-Day      0\n",
      "Psych-Up       0\n",
      "Shadow-Ball    0\n",
      "Uproar         0\n",
      "Torment        0\n",
      "Will-O-Wisp    0\n",
      "Facade         0\n",
      "Taunt          0\n",
      "Trick          0\n",
      "Knock-Off      0\n",
      "Skill-Swap     0\n",
      "Grudge         0\n",
      "Snatch         0\n",
      "Secret-Power   0\n",
      "Astonish       0\n",
      "Natural-Gift   0\n",
      "Payback        0\n",
      "Embargo        0\n",
      "Sucker-Punch   22\n",
      "Dark-Pulse     0\n",
      "Energy-Ball    0\n",
      "Trick-Room     0\n",
      "Captivate      0\n",
      "Ominous-Wind   0\n",
      "Wonder-Room    0\n",
      "Venoshock      0\n",
      "Telekinesis    0\n",
      "Foul-Play      0\n",
      "Round          0\n",
      "Clear-Smog     0\n",
      "Hex            43\n",
      "Reflect-Type   0\n",
      "Confide        0\n",
      "Dazzling-Gleam 0\n",
      "Infestation    0\n"
     ]
    }
   ],
   "source": [
    "pokemon_moves = response_json['moves']\n",
    "\n",
    "display(Markdown(\"#### These are the moves {} can learn:\\n\".format(pokemon_name)))\n",
    "\n",
    "for move in pokemon_moves:\n",
    "    move_name = move['move']['name'].title()\n",
    "    level_learned_at = move['version_group_details'][0]['level_learned_at']\n",
    "    print('{0:15}{1}'.format(move_name, level_learned_at))"
   ]
  },
  {
   "cell_type": "code",
   "execution_count": 124,
   "metadata": {},
   "outputs": [
    {
     "data": {
      "text/markdown": [
       "#### Rattata's base stats"
      ],
      "text/plain": [
       "<IPython.core.display.Markdown object>"
      ]
     },
     "metadata": {},
     "output_type": "display_data"
    },
    {
     "name": "stdout",
     "output_type": "stream",
     "text": [
      "Speed            72\n",
      "Special-Defense  35\n",
      "Special-Attack   25\n",
      "Defense          35\n",
      "Attack           56\n",
      "Hp               30\n"
     ]
    }
   ],
   "source": [
    "display(Markdown(\"#### {}'s base stats\".format(pokemon_name)))\n",
    "\n",
    "stats_json = response_json['stats']\n",
    "\n",
    "base_stats = {}\n",
    "for stat in stats_json:\n",
    "    stat_name = stat['stat']['name'].title()\n",
    "    base_stat = stat['base_stat']\n",
    "    print(\"{0:15}  {1}\".format(stat_name, base_stat))"
   ]
  },
  {
   "cell_type": "code",
   "execution_count": 125,
   "metadata": {},
   "outputs": [
    {
     "name": "stdout",
     "output_type": "stream",
     "text": [
      "Charizard\n",
      "speed            100\n",
      "special-defense  85\n",
      "special-attack   109\n",
      "defense          78\n",
      "attack           84\n",
      "hp               78\n",
      "\n",
      "Charmeleon\n",
      "speed            80\n",
      "special-defense  65\n",
      "special-attack   80\n",
      "defense          58\n",
      "attack           64\n",
      "hp               58\n",
      "\n",
      "Meowth\n",
      "speed            90\n",
      "special-defense  40\n",
      "special-attack   40\n",
      "defense          35\n",
      "attack           45\n",
      "hp               40\n",
      "\n"
     ]
    }
   ],
   "source": [
    "pokemon_index = random.sample(range(1, 100), 3)\n",
    "\n",
    "df = DataFrame()\n",
    "\n",
    "responses = []\n",
    "for index in pokemon_index:\n",
    "    response_json = requests.get('http://pokeapi.co/api/v2/pokemon/{}/'.format(index)).json()\n",
    "    name = response_json['name'].title()\n",
    "    print(name)\n",
    "    for stat in response_json['stats']:\n",
    "        stat_name = stat['stat']['name']\n",
    "        base_stat = stat['base_stat']\n",
    "        print(\"{0:15}  {1}\".format(stat_name, base_stat))\n",
    "    print()"
   ]
  },
  {
   "cell_type": "markdown",
   "metadata": {},
   "source": [
    "Possible Ideas: \n",
    "\n",
    "Graph the stats amongst each of the pokemon to determine who is best for attack, defense, etc"
   ]
  },
  {
   "cell_type": "code",
   "execution_count": 118,
   "metadata": {},
   "outputs": [
    {
     "name": "stdout",
     "output_type": "stream",
     "text": [
      "{\n",
      "    \"name\": \"celadon-city\",\n",
      "    \"region\": {\n",
      "        \"url\": \"http://pokeapi.co/api/v2/region/1/\",\n",
      "        \"name\": \"kanto\"\n",
      "    },\n",
      "    \"game_indices\": [\n",
      "        {\n",
      "            \"generation\": {\n",
      "                \"url\": \"http://pokeapi.co/api/v2/generation/4/\",\n",
      "                \"name\": \"generation-iv\"\n",
      "            },\n",
      "            \"game_index\": 144\n",
      "        }\n",
      "    ],\n",
      "    \"names\": [\n",
      "        {\n",
      "            \"name\": \"Celadon City\",\n",
      "            \"language\": {\n",
      "                \"url\": \"http://pokeapi.co/api/v2/language/9/\",\n",
      "                \"name\": \"en\"\n",
      "            }\n",
      "        },\n",
      "        {\n",
      "            \"name\": \"C\\u00e9ladopole\",\n",
      "            \"language\": {\n",
      "                \"url\": \"http://pokeapi.co/api/v2/language/5/\",\n",
      "                \"name\": \"fr\"\n",
      "            }\n",
      "        }\n",
      "    ],\n",
      "    \"id\": 67,\n",
      "    \"areas\": [\n",
      "        {\n",
      "            \"url\": \"http://pokeapi.co/api/v2/location-area/558/\",\n",
      "            \"name\": \"celadon-city-area\"\n",
      "        },\n",
      "        {\n",
      "            \"url\": \"http://pokeapi.co/api/v2/location-area/283/\",\n",
      "            \"name\": \"celadon-city-area\"\n",
      "        }\n",
      "    ]\n",
      "}\n"
     ]
    }
   ],
   "source": [
    "res = requests.get(\"http://pokeapi.co/api/v2/location/67/\").json()\n",
    "print(json.dumps(res, indent=4))"
   ]
  },
  {
   "cell_type": "code",
   "execution_count": 119,
   "metadata": {},
   "outputs": [
    {
     "name": "stdout",
     "output_type": "stream",
     "text": [
      "forms\n",
      "abilities\n",
      "stats\n",
      "name\n",
      "weight\n",
      "moves\n",
      "sprites\n",
      "held_items\n",
      "location_area_encounters\n",
      "height\n",
      "is_default\n",
      "species\n",
      "id\n",
      "order\n",
      "game_indices\n",
      "base_experience\n",
      "types\n"
     ]
    }
   ],
   "source": [
    "r = requests.get('http://pokeapi.co/api/v2/pokemon/1/')\n",
    "json_j = r.json()\n",
    "\n",
    "for attr in json_j:\n",
    "    print(attr)"
   ]
  },
  {
   "cell_type": "code",
   "execution_count": null,
   "metadata": {
    "collapsed": true
   },
   "outputs": [],
   "source": []
  },
  {
   "cell_type": "code",
   "execution_count": null,
   "metadata": {
    "collapsed": true
   },
   "outputs": [],
   "source": []
  },
  {
   "cell_type": "code",
   "execution_count": null,
   "metadata": {
    "collapsed": true
   },
   "outputs": [],
   "source": []
  },
  {
   "cell_type": "code",
   "execution_count": null,
   "metadata": {
    "collapsed": true
   },
   "outputs": [],
   "source": []
  },
  {
   "cell_type": "code",
   "execution_count": null,
   "metadata": {
    "collapsed": true
   },
   "outputs": [],
   "source": []
  },
  {
   "cell_type": "code",
   "execution_count": null,
   "metadata": {
    "collapsed": true
   },
   "outputs": [],
   "source": []
  }
 ],
 "metadata": {
  "kernelspec": {
   "display_name": "Python [default]",
   "language": "python",
   "name": "python3"
  },
  "language_info": {
   "codemirror_mode": {
    "name": "ipython",
    "version": 3
   },
   "file_extension": ".py",
   "mimetype": "text/x-python",
   "name": "python",
   "nbconvert_exporter": "python",
   "pygments_lexer": "ipython3",
   "version": "3.6.1"
  }
 },
 "nbformat": 4,
 "nbformat_minor": 2
}
