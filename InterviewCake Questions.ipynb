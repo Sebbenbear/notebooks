{
 "cells": [
  {
   "cell_type": "markdown",
   "metadata": {},
   "source": [
    "# You have a list of integers, and for each index you want to find the product of every integer except the integer at that index.\n",
    "Write a function get_products_of_all_ints_except_at_index() that takes a list of integers and returns a list of the products.\n",
    "\n",
    "For example, given:\n",
    "\n",
    "  `[1, 7, 3, 4]`\n",
    "\n",
    "your function would return:\n",
    "\n",
    " ` [84, 12, 28, 21]`\n",
    "\n",
    "by calculating:\n",
    "\n",
    "  `[7 * 3 * 4,  1 * 3 * 4,  1 * 7 * 4,  1 * 7 * 3]`\n",
    "\n",
    "Do not use division in your solution.\n"
   ]
  },
  {
   "cell_type": "code",
   "execution_count": 106,
   "metadata": {},
   "outputs": [
    {
     "name": "stdout",
     "output_type": "stream",
     "text": [
      "[84, 12, 28, 21]\n",
      "[2, 1]\n"
     ]
    }
   ],
   "source": [
    "from functools import reduce\n",
    "\n",
    "def get_products_of_all_ints_except_at_index(arr):\n",
    "    results = []\n",
    "    \n",
    "    if len(arr) < 2:\n",
    "        raise Exception(\"Arrays too short, can't do it\")\n",
    "    \n",
    "    for index, value in enumerate(arr):\n",
    "        new_array = arr[0:index] + arr[index+1:]\n",
    "        product = reduce((lambda x, y: x * y), new_array)\n",
    "        results.append(product)\n",
    "    return results\n",
    "\n",
    "arr = [1, 7, 3, 4]\n",
    "print(get_products_of_all_ints_except_at_index(arr))\n",
    "\n",
    "# arr = [1]\n",
    "# print(get_products_of_all_ints_except_at_index(arr))\n",
    "\n",
    "arr = [1, 2]\n",
    "print(get_products_of_all_ints_except_at_index(arr))"
   ]
  },
  {
   "cell_type": "code",
   "execution_count": null,
   "metadata": {
    "collapsed": true
   },
   "outputs": [],
   "source": []
  },
  {
   "cell_type": "markdown",
   "metadata": {},
   "source": [
    "### Apple Stocks\n",
    "Write an efficient function that takes stock_prices_yesterday and returns the best profit I could have made from 1 purchase and 1 sale of 1 Apple stock yesterday."
   ]
  },
  {
   "cell_type": "code",
   "execution_count": 31,
   "metadata": {
    "collapsed": true
   },
   "outputs": [],
   "source": [
    "from IPython.core.display import Image, display\n",
    "from IPython.display import Image, Markdown\n",
    "import random"
   ]
  },
  {
   "cell_type": "code",
   "execution_count": 32,
   "metadata": {},
   "outputs": [
    {
     "name": "stdout",
     "output_type": "stream",
     "text": [
      "True\n",
      "True\n",
      "True\n"
     ]
    }
   ],
   "source": [
    "def get_max_profit(stock_prices):\n",
    "    '''returns the best profit I could have made from 1 purchase and 1 sale of 1 Apple stock yesterday.\n",
    "       have to buy before selling\n",
    "       O(n^2) Solution\n",
    "    '''\n",
    "    max_profit = 0\n",
    "    \n",
    "    for inner_index in range(len(stock_prices)):\n",
    "        for outer_index in range(len(stock_prices)):\n",
    "            earlier_time = min(inner_index, outer_index)\n",
    "            later_time = max(inner_index, outer_index)\n",
    "            \n",
    "            # Get the earlier/later prices for correct ordering\n",
    "            earlier_price = stock_prices[earlier_time]\n",
    "            later_price = stock_prices[later_time]\n",
    "            \n",
    "            potential_profit = later_price - earlier_price\n",
    "            max_profit = max(max_profit, potential_profit)\n",
    "    return max_profit\n",
    "                \n",
    "stock_prices_yesterday = []\n",
    "print(get_max_profit(stock_prices_yesterday) == 0)\n",
    "    \n",
    "stock_prices_yesterday = [6]\n",
    "print(get_max_profit(stock_prices_yesterday) == 0)\n",
    "\n",
    "stock_prices_yesterday = [10, 7, 5, 8, 11, 9]\n",
    "print(get_max_profit(stock_prices_yesterday) == 6)"
   ]
  },
  {
   "cell_type": "code",
   "execution_count": 54,
   "metadata": {},
   "outputs": [
    {
     "name": "stdout",
     "output_type": "stream",
     "text": [
      "True\n",
      "True\n",
      "False\n"
     ]
    }
   ],
   "source": [
    "def get_max_profit(stock_prices):\n",
    "    '''returns the best profit I could have made from 1 purchase and 1 sale of 1 Apple stock yesterday.\n",
    "       have to buy before selling\n",
    "       O(n^2) Solution\n",
    "    '''\n",
    "    max_profit = 0\n",
    "    \n",
    "    for inner_index in range(len(stock_prices)):\n",
    "        for outer_index in range(len(stock_prices[inner_index:])):\n",
    "            earlier_time = min(inner_index, outer_index)\n",
    "            later_time = max(inner_index, outer_index)\n",
    "            \n",
    "            # Get the earlier/later prices for correct ordering\n",
    "            earlier_price = stock_prices[earlier_time]\n",
    "            later_price = stock_prices[later_time]\n",
    "            \n",
    "            potential_profit = later_price - earlier_price\n",
    "            max_profit = max(max_profit, potential_profit)\n",
    "    return max_profit\n",
    "                \n",
    "stock_prices_yesterday = []\n",
    "print(get_max_profit(stock_prices_yesterday) == 0)\n",
    "    \n",
    "stock_prices_yesterday = [6]\n",
    "print(get_max_profit(stock_prices_yesterday) == 0)\n",
    "\n",
    "stock_prices_yesterday = [10, 7, 5, 8, 11, 9]\n",
    "print(get_max_profit(stock_prices_yesterday) == 6)  #incorrect"
   ]
  },
  {
   "cell_type": "markdown",
   "metadata": {},
   "source": [
    "#### Need to do better than O(n^2), so it'll probably be either O(n log n) or O(n). Let's try a greedy approach.\n"
   ]
  },
  {
   "cell_type": "code",
   "execution_count": 80,
   "metadata": {},
   "outputs": [
    {
     "name": "stdout",
     "output_type": "stream",
     "text": [
      "10 7\n",
      "7 7\n",
      "5 8\n",
      "5 11\n",
      "5 11\n",
      "6\n"
     ]
    }
   ],
   "source": [
    "def get_max_profit(stock_prices):\n",
    "    '''returns the best profit I could have made from 1 purchase and 1 sale of 1 Apple stock yesterday.\n",
    "       have to buy before selling.\n",
    "       Came up with this on my own! Runtime is O(n)\n",
    "    '''\n",
    "    if len(stock_prices) < 2:\n",
    "        return 0\n",
    "    \n",
    "    min_buy = stock_prices[0]\n",
    "    max_sell = stock_prices[1]\n",
    "    print(min_buy, max_sell)\n",
    "    for time in range(len(stock_prices)-1):\n",
    "        \n",
    "        if time == 0:\n",
    "            continue\n",
    "            \n",
    "        buy = stock_prices[time]\n",
    "        sell = stock_prices[time+1]\n",
    "        \n",
    "        min_buy = min(min_buy, buy)\n",
    "        max_sell = max(max_sell, sell)\n",
    "        print(min_buy, max_sell)\n",
    "            \n",
    "    return max_sell - min_buy\n",
    "        \n",
    "# stock_prices_yesterday = []\n",
    "# print(get_max_profit(stock_prices_yesterday) == 0)\n",
    "    \n",
    "# stock_prices_yesterday = [6]\n",
    "# print(get_max_profit(stock_prices_yesterday) == 0)\n",
    "\n",
    "stock_prices_yesterday = [10, 7, 5, 8, 11, 9]\n",
    "print(get_max_profit(stock_prices_yesterday))\n",
    "\n",
    "# stock_prices_yesterday = [4, 3, 2, 1]\n",
    "# print(get_max_profit(stock_prices_yesterday))\n",
    "\n",
    "# stock_prices_yesterday = [4, 4, 4, 4]\n",
    "# print(get_max_profit(stock_prices_yesterday))"
   ]
  },
  {
   "cell_type": "code",
   "execution_count": 83,
   "metadata": {},
   "outputs": [
    {
     "name": "stdout",
     "output_type": "stream",
     "text": [
      "6\n",
      "-1\n",
      "0\n"
     ]
    }
   ],
   "source": [
    "def get_max_profit(stock_prices_yesterday):\n",
    "\n",
    "    # make sure we have at least 2 prices\n",
    "    if len(stock_prices_yesterday) < 2:\n",
    "        raise IndexError('Getting a profit requires at least 2 prices')\n",
    "\n",
    "    # we'll greedily update min_price and max_profit, so we initialize\n",
    "    # them to the first price and the first possible profit\n",
    "    min_price = stock_prices_yesterday[0]\n",
    "    max_profit = stock_prices_yesterday[1] - stock_prices_yesterday[0]\n",
    "\n",
    "    for index, current_price in enumerate(stock_prices_yesterday):\n",
    "\n",
    "        # skip the first (0th) time\n",
    "        # we can't sell at the first time, since we must buy first,\n",
    "        # and we can't buy and sell at the same time!\n",
    "        # if we took this out, we'd try to buy *and* sell at time 0.\n",
    "        # this would give a profit of 0, which is a problem if our\n",
    "        # max_profit is supposed to be *negative*--we'd return 0.\n",
    "        if index == 0:\n",
    "            continue\n",
    "\n",
    "        # see what our profit would be if we bought at the\n",
    "        # min price and sold at the current price\n",
    "        potential_profit = current_price - min_price\n",
    "\n",
    "        # update max_profit if we can do better\n",
    "        max_profit = max(max_profit, potential_profit)\n",
    "\n",
    "        # update min_price so it's always\n",
    "        # the lowest price we've seen so far\n",
    "        min_price  = min(min_price, current_price)\n",
    "\n",
    "    return max_profit\n",
    "\n",
    "stock_prices_yesterday = [10, 7, 5, 8, 11, 9]\n",
    "print(get_max_profit(stock_prices_yesterday))\n",
    "\n",
    "stock_prices_yesterday = [4, 3, 2, 1]\n",
    "print(get_max_profit(stock_prices_yesterday))\n",
    "\n",
    "stock_prices_yesterday = [4, 4, 4, 4]\n",
    "print(get_max_profit(stock_prices_yesterday))"
   ]
  },
  {
   "cell_type": "code",
   "execution_count": null,
   "metadata": {
    "collapsed": true
   },
   "outputs": [],
   "source": []
  }
 ],
 "metadata": {
  "kernelspec": {
   "display_name": "Python [default]",
   "language": "python",
   "name": "python3"
  },
  "language_info": {
   "codemirror_mode": {
    "name": "ipython",
    "version": 3
   },
   "file_extension": ".py",
   "mimetype": "text/x-python",
   "name": "python",
   "nbconvert_exporter": "python",
   "pygments_lexer": "ipython3",
   "version": "3.6.1"
  }
 },
 "nbformat": 4,
 "nbformat_minor": 2
}
