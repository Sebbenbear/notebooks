{
 "cells": [
  {
   "cell_type": "markdown",
   "metadata": {},
   "source": [
    "# Pokemon API"
   ]
  },
  {
   "cell_type": "markdown",
   "metadata": {},
   "source": [
    "This is primarily for exploring the pokemon api at https://pokeapi.co/ for a bit of fun."
   ]
  },
  {
   "cell_type": "code",
   "execution_count": 91,
   "metadata": {},
   "outputs": [],
   "source": [
    "import pandas as pd\n",
    "from pandas import DataFrame, Series\n",
    "import seaborn as sns\n",
    "import numpy as np\n",
    "import requests\n",
    "import json\n",
    "from IPython.core.display import Image, display\n",
    "from IPython.display import Image, Markdown\n",
    "import random"
   ]
  },
  {
   "cell_type": "code",
   "execution_count": 102,
   "metadata": {},
   "outputs": [
    {
     "data": {
      "text/markdown": [
       "#### A wild Entei appeared!"
      ],
      "text/plain": [
       "<IPython.core.display.Markdown object>"
      ]
     },
     "metadata": {},
     "output_type": "display_data"
    },
    {
     "data": {
      "image/png": "[encoded data removed]",
      "text/plain": [
       "<IPython.core.display.Image object>"
      ]
     },
     "metadata": {},
     "output_type": "display_data"
    }
   ],
   "source": [
    "generations = [151, 252, 802]\n",
    "pokemon_number = random.randint(1, generations[1])\n",
    "\n",
    "pokemon_url = 'http://pokeapi.co/api/v2/pokemon/{}/'.format(pokemon_number)\n",
    "response_json = requests.get(pokemon_url).json()\n",
    "\n",
    "pokemon_name = response_json['name'].title()\n",
    "sprites = response_json['sprites']\n",
    "sprite_url = sprites['front_default']\n",
    "\n",
    "display(Markdown(\"#### A wild {} appeared!\".format(pokemon_name)))\n",
    "display(Image(sprite_url))"
   ]
  },
  {
   "cell_type": "code",
   "execution_count": 103,
   "metadata": {},
   "outputs": [
    {
     "data": {
      "text/html": [
       "<img src=\"https://raw.githubusercontent.com/PokeAPI/sprites/master/sprites/pokemon/back/244.png\"/>"
      ],
      "text/plain": [
       "<IPython.core.display.Image object>"
      ]
     },
     "metadata": {},
     "output_type": "display_data"
    },
    {
     "data": {
      "text/html": [
       "<img src=\"https://raw.githubusercontent.com/PokeAPI/sprites/master/sprites/pokemon/back/shiny/244.png\"/>"
      ],
      "text/plain": [
       "<IPython.core.display.Image object>"
      ]
     },
     "metadata": {},
     "output_type": "display_data"
    },
    {
     "data": {
      "text/html": [
       "<img src=\"https://raw.githubusercontent.com/PokeAPI/sprites/master/sprites/pokemon/244.png\"/>"
      ],
      "text/plain": [
       "<IPython.core.display.Image object>"
      ]
     },
     "metadata": {},
     "output_type": "display_data"
    },
    {
     "data": {
      "text/html": [
       "<img src=\"https://raw.githubusercontent.com/PokeAPI/sprites/master/sprites/pokemon/shiny/244.png\"/>"
      ],
      "text/plain": [
       "<IPython.core.display.Image object>"
      ]
     },
     "metadata": {},
     "output_type": "display_data"
    }
   ],
   "source": [
    "for sprite_name in sprites:\n",
    "    sprite_url = sprites[sprite_name]\n",
    "    if sprite_url is not None:\n",
    "        display(Image(url=sprite_url))"
   ]
  },
  {
   "cell_type": "code",
   "execution_count": 104,
   "metadata": {},
   "outputs": [
    {
     "data": {
      "text/markdown": [
       "#### Entei just learned Cut!"
      ],
      "text/plain": [
       "<IPython.core.display.Markdown object>"
      ]
     },
     "metadata": {},
     "output_type": "display_data"
    }
   ],
   "source": [
    "pokemon_move = response_json['moves'][0]['move']['name'].title()\n",
    "display(Markdown(\"#### {} just learned {}!\".format(pokemon_name, pokemon_move)))"
   ]
  },
  {
   "cell_type": "code",
   "execution_count": 105,
   "metadata": {},
   "outputs": [
    {
     "data": {
      "text/markdown": [
       "#### These are the moves Entei can learn:\n"
      ],
      "text/plain": [
       "<IPython.core.display.Markdown object>"
      ]
     },
     "metadata": {},
     "output_type": "display_data"
    },
    {
     "name": "stdout",
     "output_type": "stream",
     "text": [
      "Cut            0\n",
      "Stomp          29\n",
      "Headbutt       0\n",
      "Body-Slam      0\n",
      "Double-Edge    0\n",
      "Leer           1\n",
      "Bite           1\n",
      "Roar           0\n",
      "Ember          8\n",
      "Flamethrower   0\n",
      "Hyper-Beam     0\n",
      "Strength       0\n",
      "Solar-Beam     0\n",
      "Fire-Spin      22\n",
      "Dig            0\n",
      "Toxic          0\n",
      "Mimic          0\n",
      "Double-Team    0\n",
      "Reflect        0\n",
      "Fire-Blast     0\n",
      "Swift          0\n",
      "Flash          0\n",
      "Rest           0\n",
      "Substitute     0\n",
      "Snore          0\n",
      "Curse          0\n",
      "Protect        0\n",
      "Mud-Slap       0\n",
      "Detect         0\n",
      "Sandstorm      0\n",
      "Endure         0\n",
      "Swagger        0\n",
      "Sleep-Talk     0\n",
      "Return         0\n",
      "Frustration    0\n",
      "Sacred-Fire    1\n",
      "Iron-Tail      0\n",
      "Hidden-Power   0\n",
      "Rain-Dance     0\n",
      "Sunny-Day      0\n",
      "Psych-Up       0\n",
      "Shadow-Ball    0\n",
      "Rock-Smash     0\n",
      "Heat-Wave      0\n",
      "Will-O-Wisp    0\n",
      "Facade         0\n",
      "Eruption       85\n",
      "Secret-Power   0\n",
      "Overheat       0\n",
      "Extrasensory   64\n",
      "Calm-Mind      0\n",
      "Natural-Gift   0\n",
      "Giga-Impact    0\n",
      "Fire-Fang      50\n",
      "Rock-Climb     0\n",
      "Lava-Plume     57\n",
      "Iron-Head      0\n",
      "Stone-Edge     0\n",
      "Flame-Charge   0\n",
      "Round          0\n",
      "Incinerate     0\n",
      "Quash          0\n",
      "Bulldoze       0\n",
      "Snarl          0\n",
      "Confide        0\n"
     ]
    }
   ],
   "source": [
    "pokemon_moves = response_json['moves']\n",
    "\n",
    "display(Markdown(\"#### These are the moves {} can learn:\\n\".format(pokemon_name)))\n",
    "\n",
    "for move in pokemon_moves:\n",
    "    move_name = move['move']['name'].title()\n",
    "    level_learned_at = move['version_group_details'][0]['level_learned_at']\n",
    "    print('{0:15}{1}'.format(move_name, level_learned_at))"
   ]
  },
  {
   "cell_type": "code",
   "execution_count": 106,
   "metadata": {},
   "outputs": [
    {
     "data": {
      "text/markdown": [
       "#### Entei's base stats"
      ],
      "text/plain": [
       "<IPython.core.display.Markdown object>"
      ]
     },
     "metadata": {},
     "output_type": "display_data"
    },
    {
     "name": "stdout",
     "output_type": "stream",
     "text": [
      "Speed            100\n",
      "Special-Defense  75\n",
      "Special-Attack   90\n",
      "Defense          85\n",
      "Attack           115\n",
      "Hp               115\n"
     ]
    }
   ],
   "source": [
    "display(Markdown(\"#### {}'s base stats\".format(pokemon_name)))\n",
    "\n",
    "stats_json = response_json['stats']\n",
    "\n",
    "base_stats = {}\n",
    "for stat in stats_json:\n",
    "    stat_name = stat['stat']['name'].title()\n",
    "    base_stat = stat['base_stat']\n",
    "    print(\"{0:15}  {1}\".format(stat_name, base_stat))"
   ]
  },
  {
   "cell_type": "code",
   "execution_count": 107,
   "metadata": {},
   "outputs": [
    {
     "name": "stdout",
     "output_type": "stream",
     "text": [
      "Jigglypuff\n",
      "speed            20\n",
      "special-defense  25\n",
      "special-attack   45\n",
      "defense          20\n",
      "attack           45\n",
      "hp               115\n",
      "\n",
      "Dodrio\n",
      "speed            100\n",
      "special-defense  60\n",
      "special-attack   60\n",
      "defense          70\n",
      "attack           110\n",
      "hp               60\n",
      "\n",
      "Ekans\n",
      "speed            55\n",
      "special-defense  54\n",
      "special-attack   40\n",
      "defense          44\n",
      "attack           60\n",
      "hp               35\n",
      "\n"
     ]
    }
   ],
   "source": [
    "pokemon_index = random.sample(range(1, 100), 3)\n",
    "\n",
    "df = DataFrame()\n",
    "\n",
    "responses = []\n",
    "for index in pokemon_index:\n",
    "    response_json = requests.get('http://pokeapi.co/api/v2/pokemon/{}/'.format(index)).json()\n",
    "    name = response_json['name'].title()\n",
    "    print(name)\n",
    "    for stat in response_json['stats']:\n",
    "        stat_name = stat['stat']['name']\n",
    "        base_stat = stat['base_stat']\n",
    "        print(\"{0:15}  {1}\".format(stat_name, base_stat))\n",
    "    print()"
   ]
  },
  {
   "cell_type": "markdown",
   "metadata": {},
   "source": [
    "Possible Ideas: \n",
    "\n",
    "Graph the stats amongst each of the pokemon to determine who is best for attack, defense, etc"
   ]
  },
  {
   "cell_type": "code",
   "execution_count": 108,
   "metadata": {},
   "outputs": [
    {
     "name": "stdout",
     "output_type": "stream",
     "text": [
      "{\n",
      "    \"name\": \"celadon-city\",\n",
      "    \"region\": {\n",
      "        \"url\": \"http://pokeapi.co/api/v2/region/1/\",\n",
      "        \"name\": \"kanto\"\n",
      "    },\n",
      "    \"game_indices\": [\n",
      "        {\n",
      "            \"generation\": {\n",
      "                \"url\": \"http://pokeapi.co/api/v2/generation/4/\",\n",
      "                \"name\": \"generation-iv\"\n",
      "            },\n",
      "            \"game_index\": 144\n",
      "        }\n",
      "    ],\n",
      "    \"names\": [\n",
      "        {\n",
      "            \"name\": \"Celadon City\",\n",
      "            \"language\": {\n",
      "                \"url\": \"http://pokeapi.co/api/v2/language/9/\",\n",
      "                \"name\": \"en\"\n",
      "            }\n",
      "        },\n",
      "        {\n",
      "            \"name\": \"C\\u00e9ladopole\",\n",
      "            \"language\": {\n",
      "                \"url\": \"http://pokeapi.co/api/v2/language/5/\",\n",
      "                \"name\": \"fr\"\n",
      "            }\n",
      "        }\n",
      "    ],\n",
      "    \"id\": 67,\n",
      "    \"areas\": [\n",
      "        {\n",
      "            \"url\": \"http://pokeapi.co/api/v2/location-area/558/\",\n",
      "            \"name\": \"celadon-city-area\"\n",
      "        },\n",
      "        {\n",
      "            \"url\": \"http://pokeapi.co/api/v2/location-area/283/\",\n",
      "            \"name\": \"celadon-city-area\"\n",
      "        }\n",
      "    ]\n",
      "}\n"
     ]
    }
   ],
   "source": [
    "res = requests.get(\"http://pokeapi.co/api/v2/location/67/\").json()\n",
    "print(json.dumps(res, indent=4))"
   ]
  },
  {
   "cell_type": "code",
   "execution_count": 109,
   "metadata": {},
   "outputs": [
    {
     "name": "stdout",
     "output_type": "stream",
     "text": [
      "forms\n",
      "abilities\n",
      "stats\n",
      "name\n",
      "weight\n",
      "moves\n",
      "sprites\n",
      "held_items\n",
      "location_area_encounters\n",
      "height\n",
      "is_default\n",
      "species\n",
      "id\n",
      "order\n",
      "game_indices\n",
      "base_experience\n",
      "types\n"
     ]
    }
   ],
   "source": [
    "r = requests.get('http://pokeapi.co/api/v2/pokemon/1/')\n",
    "json_j = r.json()\n",
    "\n",
    "for attr in json_j:\n",
    "    print(attr)"
   ]
  },
  {
   "cell_type": "code",
   "execution_count": null,
   "metadata": {},
   "outputs": [],
   "source": []
  },
  {
   "cell_type": "code",
   "execution_count": null,
   "metadata": {},
   "outputs": [],
   "source": []
  },
  {
   "cell_type": "code",
   "execution_count": null,
   "metadata": {},
   "outputs": [],
   "source": []
  },
  {
   "cell_type": "code",
   "execution_count": null,
   "metadata": {},
   "outputs": [],
   "source": []
  },
  {
   "cell_type": "code",
   "execution_count": null,
   "metadata": {},
   "outputs": [],
   "source": []
  },
  {
   "cell_type": "code",
   "execution_count": null,
   "metadata": {
    "collapsed": true
   },
   "outputs": [],
   "source": []
  }
 ],
 "metadata": {
  "kernelspec": {
   "display_name": "Python [default]",
   "language": "python",
   "name": "python3"
  },
  "language_info": {
   "codemirror_mode": {
    "name": "ipython",
    "version": 3
   },
   "file_extension": ".py",
   "mimetype": "text/x-python",
   "name": "python",
   "nbconvert_exporter": "python",
   "pygments_lexer": "ipython3",
   "version": "3.6.1"
  }
 },
 "nbformat": 4,
 "nbformat_minor": 2
}
